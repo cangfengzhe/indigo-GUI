{
 "cells": [
  {
   "cell_type": "code",
   "execution_count": 3,
   "metadata": {},
   "outputs": [
    {
     "ename": "NameError",
     "evalue": "name 'indigo' is not defined",
     "output_type": "error",
     "traceback": [
      "\u001b[0;31m---------------------------------------------------------------------------\u001b[0m",
      "\u001b[0;31mNameError\u001b[0m                                 Traceback (most recent call last)",
      "\u001b[0;32m<ipython-input-3-3f4fb7225561>\u001b[0m in \u001b[0;36m<module>\u001b[0;34m()\u001b[0m\n\u001b[1;32m      2\u001b[0m \u001b[0;34m\u001b[0m\u001b[0m\n\u001b[1;32m      3\u001b[0m \u001b[0mfile\u001b[0m \u001b[0;34m=\u001b[0m \u001b[0;34m\"data/smart-simple-compare.smi\"\u001b[0m\u001b[0;34m\u001b[0m\u001b[0m\n\u001b[0;32m----> 4\u001b[0;31m \u001b[0marray\u001b[0m \u001b[0;34m=\u001b[0m \u001b[0mindigo\u001b[0m\u001b[0;34m.\u001b[0m\u001b[0mcreateArray\u001b[0m\u001b[0;34m(\u001b[0m\u001b[0;34m)\u001b[0m\u001b[0;34m\u001b[0m\u001b[0m\n\u001b[0m\u001b[1;32m      5\u001b[0m \u001b[0;32mfor\u001b[0m \u001b[0mmol1\u001b[0m \u001b[0;32min\u001b[0m \u001b[0mindigo\u001b[0m\u001b[0;34m.\u001b[0m\u001b[0miterateSmilesFile\u001b[0m\u001b[0;34m(\u001b[0m\u001b[0mfile\u001b[0m\u001b[0;34m)\u001b[0m\u001b[0;34m:\u001b[0m\u001b[0;34m\u001b[0m\u001b[0m\n\u001b[1;32m      6\u001b[0m     \u001b[0mmol2\u001b[0m \u001b[0;34m=\u001b[0m \u001b[0mmol1\u001b[0m\u001b[0;34m.\u001b[0m\u001b[0mclone\u001b[0m\u001b[0;34m(\u001b[0m\u001b[0;34m)\u001b[0m\u001b[0;34m\u001b[0m\u001b[0m\n",
      "\u001b[0;31mNameError\u001b[0m: name 'indigo' is not defined"
     ]
    }
   ],
   "source": [
    "from indigo import *\n",
    "\n",
    "file = \"data/smart-simple-compare.smi\"\n",
    "array = indigo.createArray()\n",
    "for mol1 in indigo.iterateSmilesFile(file):\n",
    "    mol2 = mol1.clone()\n",
    "    indigo.setOption(\"smart-layout\", \"false\")\n",
    "    mol1.layout()\n",
    "    mol1.setProperty(\"grid-comment\", \"simple\")\n",
    "    array.arrayAdd(mol1)\n",
    "    indigo.setOption(\"smart-layout\", \"true\")\n",
    "    mol2.layout()\n",
    "    mol2.setProperty(\"grid-comment\", \"smart\")\n",
    "    array.arrayAdd(mol2)\n",
    "\n",
    "indigo.setOption(\"render-bond-length\", \"14\")\n",
    "indigo.setOption(\"render-grid-title-property\", \"grid-comment\")\n",
    "indigo.setOption(\"render-grid-margins\", \"20, 10\")\n",
    "indigo.setOption(\"render-grid-title-offset\", \"5\")\n",
    "\n",
    "indigoRenderer.renderGridToFile(array, None, 2, 'result.png')"
   ]
  },
  {
   "cell_type": "code",
   "execution_count": null,
   "metadata": {},
   "outputs": [],
   "source": [
    "from indigo import *"
   ]
  }
 ],
 "metadata": {},
 "nbformat": 4,
 "nbformat_minor": 0
}